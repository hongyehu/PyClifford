{
 "cells": [
  {
   "cell_type": "code",
   "execution_count": 2,
   "id": "149fa5a7-c35f-45dc-bdc8-16576b97144d",
   "metadata": {},
   "outputs": [
    {
     "name": "stdout",
     "output_type": "stream",
     "text": [
      "The autoreload extension is already loaded. To reload it, use:\n",
      "  %reload_ext autoreload\n"
     ]
    }
   ],
   "source": [
    "# will autoupdate any of the packages imported:\n",
    "%load_ext autoreload\n",
    "%autoreload 2\n",
    "%matplotlib inline"
   ]
  },
  {
   "cell_type": "code",
   "execution_count": 3,
   "id": "825b13e3-a714-4ac6-9acd-5a3f479dd2d4",
   "metadata": {},
   "outputs": [],
   "source": [
    "from numba import njit"
   ]
  },
  {
   "cell_type": "code",
   "execution_count": 13,
   "id": "6d06cc9d-a590-43cf-8d89-508f4e85650e",
   "metadata": {},
   "outputs": [],
   "source": [
    "import sys\n",
    "sys.path.insert(0, '..')\n",
    "import numpy as np\n",
    "import numpy\n",
    "import matplotlib.pyplot as plt\n",
    "from numba import njit\n",
    "import pyclifford as pc\n",
    "from pyclifford import utils, paulialg, stabilizer, circuit\n",
    "from pyclifford.utils import acq, ipow, clifford_rotate, pauli_transform\n",
    "from pyclifford.paulialg import Pauli, PauliList, PauliPolynomial\n",
    "import qutip as qt"
   ]
  },
  {
   "cell_type": "code",
   "execution_count": 7,
   "id": "b0ccc776-9f34-40bf-97ba-e556dfe84f2c",
   "metadata": {},
   "outputs": [],
   "source": [
    "from pyclifford.paulialg import pauli, Pauli"
   ]
  },
  {
   "cell_type": "code",
   "execution_count": 8,
   "id": "bf702fe8-fe20-4cce-9450-029057b2bc90",
   "metadata": {},
   "outputs": [
    {
     "data": {
      "text/plain": [
       "1 XY +2 YY"
      ]
     },
     "execution_count": 8,
     "metadata": {},
     "output_type": "execute_result"
    }
   ],
   "source": [
    "pauli(\"YY\")+pauli(\"XY\")+pauli(\"YY\")"
   ]
  },
  {
   "cell_type": "markdown",
   "id": "1bfbc808-e329-4188-aa60-8b529b33af09",
   "metadata": {},
   "source": [
    "Backend function:"
   ]
  },
  {
   "cell_type": "code",
   "execution_count": 9,
   "id": "e6967ce1-9d05-4c43-983a-4da9e27b6931",
   "metadata": {},
   "outputs": [],
   "source": [
    "@njit\n",
    "def decompose(g, gs, ps):\n",
    "    '''  Decompose a pauli string to phase*destabilizers*stabilizers\n",
    "    Parameters:\n",
    "    g: int(2*N) - the binary vector of a pauli string\n",
    "    gs: int(2*N,2*N) - the full tableau\n",
    "    ps: int(2*N) - phase of stabilizer and destabilizer\n",
    "    \n",
    "    Returns:\n",
    "    phase: int - phase in terms of imaginery power\n",
    "    b: int(N) - binary encoding of destabilizer decomposition\n",
    "    c: int(N) - binary encoding of stabilizer decomposition\n",
    "    '''\n",
    "    phase = 0\n",
    "    tmp_p = np.zeros_like(g)\n",
    "    N = gs.shape[0]//2\n",
    "    # b = int(np.zeros(N)) # numbda does not support change data type\n",
    "    # c = int(np.zeros(N))\n",
    "    b = np.array([0 for _ in range(N)])\n",
    "    c = np.array([0 for _ in range(N)])\n",
    "    for i in range(N):\n",
    "        if acq(g,gs[i]): #anti-commute\n",
    "            b[i] = 1\n",
    "            phase = phase - ipow(tmp_p,gs[i+N]) + ps[i+N]\n",
    "            tmp_p = (tmp_p+gs[i+N])%2\n",
    "    for i in range(N):\n",
    "        if acq(g,gs[i+N]): #anti-commute\n",
    "            c[i] = 1\n",
    "            phase = phase - ipow(tmp_p,gs[i]) + ps[i]\n",
    "            tmp_p = (tmp_p+gs[i])%2\n",
    "    return phase%4, tmp_p, b, c"
   ]
  },
  {
   "cell_type": "markdown",
   "id": "9a647a98-b91e-43c4-9e7d-683b63e6a6d9",
   "metadata": {},
   "source": [
    "The above function will decompose a pauli string into combination of destabilizer generators and stabilizer generators.\n",
    "\n",
    "Let's see an example, if the stabilizer generators are $g_0=-ZZ$ and $g_1=XX$ and destabilizer generators are $d_0=IX$, $d_1=ZI$."
   ]
  },
  {
   "cell_type": "code",
   "execution_count": 10,
   "id": "41e9c65f-5331-45d2-be17-79510ef3e4cd",
   "metadata": {},
   "outputs": [],
   "source": [
    "gs = stabilizer.stabilizer_state(\"-ZZ\",\"XX\").gs\n",
    "ps = stabilizer.stabilizer_state(\"-ZZ\",\"XX\").ps"
   ]
  },
  {
   "cell_type": "code",
   "execution_count": 12,
   "id": "61745581-342e-46e7-855b-56960cf0db63",
   "metadata": {},
   "outputs": [
    {
     "data": {
      "text/plain": [
       "(1, array([1, 0, 1, 1]), array([0, 1]), array([1, 1]))"
      ]
     },
     "execution_count": 12,
     "metadata": {},
     "output_type": "execute_result"
    }
   ],
   "source": [
    "decompose(np.array([1,0,1,1]),gs,ps)"
   ]
  },
  {
   "cell_type": "markdown",
   "id": "70e0e218-d64a-4314-a4d6-9ea852eb38e9",
   "metadata": {},
   "source": [
    "From the result, we see pauli string $XY$ can be decomposed as\n",
    "$$XY = i^1 d_0^0 d_1^1 g_0^1 g_1^1=i(ZI)(-ZZ)(XX)$$"
   ]
  },
  {
   "cell_type": "markdown",
   "id": "aa85b6b9-d6d0-40b4-9901-dbcb1f458d4c",
   "metadata": {},
   "source": [
    "# General Stabilizer State"
   ]
  },
  {
   "cell_type": "code",
   "execution_count": 14,
   "id": "233f4325-6c3a-4ce0-b0b2-d69b66a18462",
   "metadata": {},
   "outputs": [],
   "source": [
    "class GeneralStabilizerState(object):\n",
    "\n",
    "    def __init__(self, chi, gs, ps):\n",
    "        self.chi = chi\n",
    "        self.gs = gs\n",
    "        self.ps = ps\n",
    "        self.n = gs.shape[1]//2\n",
    "        \n",
    "    def copy(self):\n",
    "        return self.chi.copy(), self.gs.copy(), self.ps.copy()\n",
    "\n",
    "    def rotate_by(self, generator, mask=None):\n",
    "        # perform Clifford transformation by Pauli generator (in-place)\n",
    "        if mask is None:\n",
    "            clifford_rotate(generator.g, generator.p, self.gs, self.ps)\n",
    "        else:\n",
    "            mask2 = numpy.repeat(mask,  2)\n",
    "            self.gs[:,mask2], self.ps = clifford_rotate(\n",
    "                generator.g, generator.p, self.gs[:,mask2], self.ps)\n",
    "        return self\n",
    "        \n",
    "    def transform_by(self, clifford_map, mask=None):\n",
    "        # perform Clifford transformation by Clifford map (in-place)\n",
    "        if mask is None:\n",
    "            self.gs, self.ps = pauli_transform(self.gs, self.ps, \n",
    "                clifford_map.gs, clifford_map.ps)\n",
    "        else:\n",
    "            mask2 = numpy.repeat(mask, 2)\n",
    "            self.gs[:,mask2], self.ps = pauli_transform(\n",
    "                self.gs[:,mask2], self.ps, clifford_map.gs, clifford_map.ps)\n",
    "        return self\n",
    "    \n",
    "    def pauli_chnl_evol(self, gate):\n",
    "        '''Perform general Clifford channel evolution.\n",
    "        \n",
    "        Parameters:\n",
    "        phi: [c1, c2, ...] - list of Pauli channel coefficients.\n",
    "        pl:  [int (2*N), int (2*N), ...] - list of left-multiplying Pauli ops.\n",
    "        pr:  [int (2*N), int (2*N), ...] - list of right-multiplying Pauli ops. \n",
    "        \n",
    "        Returns:\n",
    "        chi in-place modified.\n",
    "        '''\n",
    "        # pre-store alpha, b, c to avoid redundant call of decompose\n",
    "        phi, pl, pr = gate.phi, gate.pl, gate.pr\n",
    "        al, bl, cl = [], [], []\n",
    "        ar, br, cr = [], [], []\n",
    "        for pm, pn in zip(pl, pr):\n",
    "            am, _, bm, cm = decompose(pm, self.gs, self.ps) \n",
    "            an, _, bn, cn = decompose(pn, self.gs, self.ps)\n",
    "            al.append(am)\n",
    "            bl.append(bm)\n",
    "            cl.append(cm)\n",
    "            ar.append(an)\n",
    "            br.append(bn)\n",
    "            cr.append(cn)\n",
    "        # update chi\n",
    "        chinew = {}\n",
    "        for idx in range(len(phi)):\n",
    "            phimn = phi[idx]\n",
    "            am, bm, cm = al[idx], bl[idx], cl[idx]\n",
    "            an, bn, cn = ar[idx], br[idx], cr[idx]\n",
    "            # print(phimn)\n",
    "            for (i, j), chiij in self.chi.items():\n",
    "                i, j = np.array(list(i)), np.array(list(j))\n",
    "                # update i, j\n",
    "                inew = (i + bm)%2\n",
    "                jnew = (j + bn)%2\n",
    "                # update chiij\n",
    "                ipow = (am-an+2*(np.dot(i,cm)+np.dot(j,cn)))%4\n",
    "                chiijnew = chiij * phimn * 1j**ipow\n",
    "                keynew = (tuple(inew), tuple(jnew))\n",
    "                if keynew in chinew:\n",
    "                    chinew[keynew] += chiijnew\n",
    "                else:\n",
    "                    chinew[keynew] = chiijnew\n",
    "                # print(chinew)\n",
    "        self.chi = chinew         \n",
    "    def pauli_expect(self, obs):\n",
    "        '''Evaluate expectation values of Pauli observables on the\n",
    "generalized stabilizer state.\n",
    "        \n",
    "        Parameters:\n",
    "        obs: observable, can be Pauli, PauliPolynomial, PauliList\n",
    "        z: fugacity of operator weight\n",
    "        \n",
    "        Returns:\n",
    "        out: output (depending on the type of obs)\n",
    "            * Pauli: promote to PauliPolynomial\n",
    "            * PauliPolynomial O: Tr(rho O z^|O|)\n",
    "            * Paulilist [O_i]: [Tr(rho O_i z^|O_i|)]\n",
    "        '''\n",
    "        if isinstance(obs, Pauli):\n",
    "            # cast Pauli to PauliPolynomial\n",
    "            return self.pauli_expect(obs.as_polynomial())\n",
    "        elif isinstance(obs, PauliPolynomial):\n",
    "            # cast PauliPolynomial to PauliList\n",
    "            xs = self.expect(PauliList(obs.gs, obs.ps))\n",
    "            return numpy.sum(obs.cs * xs)\n",
    "        elif isinstance(obs, PauliList):\n",
    "            (L, Ng) = obs.gs.shape\n",
    "            N = Ng//2\n",
    "            xs = np.zeros(L, dtype=np.complex_) # expectation values\n",
    "            pa = 0\n",
    "            for k in range(L):\n",
    "                a, _, b, c = decompose(obs.gs[k], self.gs, self.ps)\n",
    "                for (i, j), chi in self.chi.items():\n",
    "                    i, j = np.array(list(i)), np.array(list(j))\n",
    "                    # print(f'i: {i.shape}, j: {j.shape}, b:{b.shape}')\n",
    "                if np.all((i+j+b) == 0):\n",
    "                    # ipow = (a + obs.ps[k] + 2*i@c) % 4\n",
    "                    ipow = (a + obs.ps[k] + 2*np.dot(i, c)) % 4\n",
    "                    xs[k] += chi * 1j**ipow\n",
    "            return xs \n",
    "    def to_qutip(self):\n",
    "        n = self.gs.shape[1]//2\n",
    "        paulis = [qt.qeye(2), qt.sigmax(), qt.sigmay(), qt.sigmaz()]\n",
    "        identity = qt.tensor([qt.qeye(2) for i in range(n)])\n",
    "        stab_state = identity\n",
    "        for i in range(n):\n",
    "            current_stabilizer = pc.paulialg.Pauli(g=self.gs[i],p=self.ps[i]).to_qutip()\n",
    "            stab_state *= (identity+current_stabilizer)/2\n",
    "            # print('current_stabilizer:',current_stabilizer, 'stab_state:', stab_state)\n",
    "        state = 0\n",
    "        for k, e in self.chi.items():\n",
    "            left_coor = k[0]\n",
    "            right_coor = k[1]\n",
    "            # print('left_coor:',left_coor,'right_coor',right_coor)\n",
    "            left_destabilizer = identity\n",
    "            for l in range(len(left_coor)):\n",
    "                if left_coor[l] == 1:\n",
    "                    left_destabilizer *= pc.paulialg.Pauli(g=self.gs[l+n],p=self.ps[l+n]).to_qutip()\n",
    "                    # print(f'{l}th left destabilizer: {left_destabilizer}')\n",
    "            right_destabilizer = identity\n",
    "            for r in range(len(right_coor)):\n",
    "                if right_coor[r] == 1:\n",
    "                    right_destabilizer *= pc.paulialg.Pauli(g=self.gs[r+n],p=self.ps[r+n]).to_qutip()\n",
    "                    # print(f'{r}th right destabilizer: {left_destabilizer}')\n",
    "            state += e * left_destabilizer * stab_state * right_destabilizer\n",
    "        return state"
   ]
  },
  {
   "cell_type": "code",
   "execution_count": 24,
   "id": "68a2b862-52ba-4bf4-8fe8-48913b5749ad",
   "metadata": {},
   "outputs": [],
   "source": [
    "class GeneralGate(object):\n",
    "    def __init__(self, acting_qubit, num_qubits, phi, pl, pr):\n",
    "        '''\n",
    "        General gate U can be represented as U^{dagger}rho U = \\sum_{ij} phi_{ij} P_i \\rho P_j\n",
    "        This can represent arbitrary channels, and phi is the chi representation of the channel, where\n",
    "        non-Clifford gates are special cases of this.\n",
    "        Parameters:\n",
    "        acting_qubit: int - the qubit that the gate acts on\n",
    "        num_qubits: int - the number of qubits in the system\n",
    "        phi: [c1, c2, ...] - numpy array of Pauli channel coefficients.\n",
    "        pl:  [int (2*N), int (2*N), ...] - list of left-multiplying Pauli ops.\n",
    "        pr:  [int (2*N), int (2*N), ...] - list of right-multiplying Pauli ops. \n",
    "        '''\n",
    "        self.phi = phi\n",
    "        self.pl = pl\n",
    "        self.pr = pr\n",
    "        self.i = acting_qubit\n",
    "        self.n = num_qubits"
   ]
  },
  {
   "cell_type": "code",
   "execution_count": 26,
   "id": "7c56b07b",
   "metadata": {},
   "outputs": [
    {
     "data": {
      "text/plain": [
       "array([1, 0, 1, 0])"
      ]
     },
     "execution_count": 26,
     "metadata": {},
     "output_type": "execute_result"
    }
   ],
   "source": [
    "pc.pauli(\"XX\").g"
   ]
  },
  {
   "cell_type": "code",
   "execution_count": 51,
   "id": "b8161415-23ee-468a-9332-fd14156edc87",
   "metadata": {},
   "outputs": [
    {
     "data": {
      "text/plain": [
       "array([0, 0, 0])"
      ]
     },
     "execution_count": 51,
     "metadata": {},
     "output_type": "execute_result"
    }
   ],
   "source": [
    "np.zeros(3).astype(int)"
   ]
  },
  {
   "cell_type": "code",
   "execution_count": null,
   "id": "dbe9adba-b8e6-4aa3-a4c2-cab7cee9076d",
   "metadata": {},
   "outputs": [],
   "source": [
    "def Tgate(i,n):\n",
    "    '''\n",
    "    Parameters:\n",
    "    i - int: which qubit this gate is acting on\n",
    "    n - int: total number of qubits in the system\n",
    "    \n",
    "    Returns:\n",
    "    gate - GeneralGate\n",
    "    '''\n",
    "    phi = np.array([np.cos(np.pi/8)**2, 1j*np.sin(np.pi/8)*np.cos(np.pi/8),\\\n",
    "                -1j*np.sin(np.pi/8)*np.cos(np.pi/8), np.sin(np.pi/8)**2], dtype=np.complex_)\n",
    "    extend_I = np.zeros(2*n).astype(int)\n",
    "    extend_Z = np.zeros(2*n).astype(int)\n",
    "    extend_Z[2*i+1]=1\n",
    "    pl = [extend_I, extend_Z, extend_I, extend_Z]\n",
    "    pr = [extend_I, extend_I, extend_Z, extend_Z]\n",
    "    return GeneralGate(i,n,phi,pl,pr)\n",
    "def Rx(i,n,theta):\n",
    "    '''\n",
    "    Parameters:\n",
    "    i - int: which qubit this gate is acting on\n",
    "    n - int: total number of qubits in the system\n",
    "    theta - float: angle of rotation\n",
    "    \n",
    "    Returns:\n",
    "    gate - GeneralGate\n",
    "    '''\n",
    "    phi = np.array([np.cos(theta/2)**2, 1j*np.sin(theta/2)*np.cos(theta/2),\\\n",
    "                -1j*np.sin(theta/2)*np.cos(theta/2), np.sin(theta/2)**2], dtype=np.complex_)\n",
    "    extend_I = np.zeros(2*n).astype(int)\n",
    "    extend_X = np.zeros(2*n).astype(int)\n",
    "    extend_X[2*i]=1\n",
    "    pl = [extend_I, extend_X, extend_I, extend_X]\n",
    "    pr = [extend_I, extend_I, extend_X, extend_X]\n",
    "    return GeneralGate(i,n,phi,pl,pr)"
   ]
  },
  {
   "cell_type": "code",
   "execution_count": null,
   "id": "b4e201dc",
   "metadata": {},
   "outputs": [],
   "source": [
    "pc.pauli({0:1})"
   ]
  },
  {
   "cell_type": "code",
   "execution_count": 17,
   "id": "02910e0f-300f-4a44-b173-bc3b86d4b003",
   "metadata": {},
   "outputs": [],
   "source": [
    "T0 = Tgate(0,3)\n",
    "T2 = Tgate(2,3)"
   ]
  },
  {
   "cell_type": "code",
   "execution_count": 63,
   "id": "8be606b1-3ad8-4fae-89ab-d73e37b7b492",
   "metadata": {},
   "outputs": [
    {
     "data": {
      "text/plain": [
       "{((0, 0, 0), (0, 0, 0)): 1.0}"
      ]
     },
     "execution_count": 63,
     "metadata": {},
     "output_type": "execute_result"
    }
   ],
   "source": [
    "{(tuple(0 for i in range(3)),tuple(0 for i in range(3))):1.0}"
   ]
  },
  {
   "cell_type": "code",
   "execution_count": 21,
   "id": "9c99dc1a-b24b-43b2-879e-a6321459ab4e",
   "metadata": {},
   "outputs": [],
   "source": [
    "ghz = GeneralStabilizerState({(tuple(0 for i in range(3)),tuple(0 for i in range(3))):1.0},\\\n",
    "                            gs = pc.ghz_state(3).gs,ps = pc.ghz_state(3).ps)"
   ]
  },
  {
   "cell_type": "code",
   "execution_count": 23,
   "id": "c25471ba",
   "metadata": {},
   "outputs": [
    {
     "data": {
      "text/latex": [
       "Quantum object: dims=[[2, 2, 2], [2, 2, 2]], shape=(8, 8), type='oper', dtype=CSR, isherm=True$$\\left(\\begin{array}{cc}0.500 & 0 & 0 & 0 & 0 & 0 & 0 & 0.500\\\\0 & 0 & 0 & 0 & 0 & 0 & 0 & 0\\\\0 & 0 & 0 & 0 & 0 & 0 & 0 & 0\\\\0 & 0 & 0 & 0 & 0 & 0 & 0 & 0\\\\0 & 0 & 0 & 0 & 0 & 0 & 0 & 0\\\\0 & 0 & 0 & 0 & 0 & 0 & 0 & 0\\\\0 & 0 & 0 & 0 & 0 & 0 & 0 & 0\\\\0.500 & 0 & 0 & 0 & 0 & 0 & 0 & 0.500\\end{array}\\right)$$"
      ],
      "text/plain": [
       "Quantum object: dims=[[2, 2, 2], [2, 2, 2]], shape=(8, 8), type='oper', dtype=CSR, isherm=True\n",
       "Qobj data =\n",
       "[[0.5 0.  0.  0.  0.  0.  0.  0.5]\n",
       " [0.  0.  0.  0.  0.  0.  0.  0. ]\n",
       " [0.  0.  0.  0.  0.  0.  0.  0. ]\n",
       " [0.  0.  0.  0.  0.  0.  0.  0. ]\n",
       " [0.  0.  0.  0.  0.  0.  0.  0. ]\n",
       " [0.  0.  0.  0.  0.  0.  0.  0. ]\n",
       " [0.  0.  0.  0.  0.  0.  0.  0. ]\n",
       " [0.5 0.  0.  0.  0.  0.  0.  0.5]]"
      ]
     },
     "execution_count": 23,
     "metadata": {},
     "output_type": "execute_result"
    }
   ],
   "source": [
    "ghz.to_qutip()"
   ]
  },
  {
   "cell_type": "code",
   "execution_count": 19,
   "id": "0a57bae7-1c24-426f-9f89-73e5bf430850",
   "metadata": {},
   "outputs": [],
   "source": [
    "ghz.pauli_chnl_evol(T0)\n",
    "ghz.pauli_chnl_evol(T2)"
   ]
  },
  {
   "cell_type": "code",
   "execution_count": 20,
   "id": "233f9e27-7a4b-4746-b54b-eea2269ae758",
   "metadata": {},
   "outputs": [
    {
     "data": {
      "text/latex": [
       "Quantum object: dims=[[2, 2, 2], [2, 2, 2]], shape=(8, 8), type='oper', dtype=CSR, isherm=True$$\\left(\\begin{array}{cc}0.500 & 0 & 0 & 0 & 0 & 0 & 0 & 0.500j\\\\0 & 0 & 0 & 0 & 0 & 0 & 0 & 0\\\\0 & 0 & 0 & 0 & 0 & 0 & 0 & 0\\\\0 & 0 & 0 & 0 & 0 & 0 & 0 & 0\\\\0 & 0 & 0 & 0 & 0 & 0 & 0 & 0\\\\0 & 0 & 0 & 0 & 0 & 0 & 0 & 0\\\\0 & 0 & 0 & 0 & 0 & 0 & 0 & 0\\\\-0.500j & 0 & 0 & 0 & 0 & 0 & 0 & 0.500\\end{array}\\right)$$"
      ],
      "text/plain": [
       "Quantum object: dims=[[2, 2, 2], [2, 2, 2]], shape=(8, 8), type='oper', dtype=CSR, isherm=True\n",
       "Qobj data =\n",
       "[[0.5+0.j  0. +0.j  0. +0.j  0. +0.j  0. +0.j  0. +0.j  0. +0.j  0. +0.5j]\n",
       " [0. +0.j  0. +0.j  0. +0.j  0. +0.j  0. +0.j  0. +0.j  0. +0.j  0. +0.j ]\n",
       " [0. +0.j  0. +0.j  0. +0.j  0. +0.j  0. +0.j  0. +0.j  0. +0.j  0. +0.j ]\n",
       " [0. +0.j  0. +0.j  0. +0.j  0. +0.j  0. +0.j  0. +0.j  0. +0.j  0. +0.j ]\n",
       " [0. +0.j  0. +0.j  0. +0.j  0. +0.j  0. +0.j  0. +0.j  0. +0.j  0. +0.j ]\n",
       " [0. +0.j  0. +0.j  0. +0.j  0. +0.j  0. +0.j  0. +0.j  0. +0.j  0. +0.j ]\n",
       " [0. +0.j  0. +0.j  0. +0.j  0. +0.j  0. +0.j  0. +0.j  0. +0.j  0. +0.j ]\n",
       " [0. -0.5j 0. +0.j  0. +0.j  0. +0.j  0. +0.j  0. +0.j  0. +0.j  0.5+0.j ]]"
      ]
     },
     "execution_count": 20,
     "metadata": {},
     "output_type": "execute_result"
    }
   ],
   "source": [
    "ghz.to_qutip()"
   ]
  },
  {
   "cell_type": "code",
   "execution_count": null,
   "id": "e8b6a30a-8f52-4809-9737-ded44ae387b7",
   "metadata": {},
   "outputs": [],
   "source": []
  }
 ],
 "metadata": {
  "kernelspec": {
   "display_name": "Python 3 (ipykernel)",
   "language": "python",
   "name": "python3"
  },
  "language_info": {
   "codemirror_mode": {
    "name": "ipython",
    "version": 3
   },
   "file_extension": ".py",
   "mimetype": "text/x-python",
   "name": "python",
   "nbconvert_exporter": "python",
   "pygments_lexer": "ipython3",
   "version": "3.9.12"
  }
 },
 "nbformat": 4,
 "nbformat_minor": 5
}

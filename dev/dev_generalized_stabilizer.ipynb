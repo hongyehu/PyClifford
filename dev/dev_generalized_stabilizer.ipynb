{
 "cells": [
  {
   "cell_type": "code",
   "execution_count": 1,
   "id": "8334d599-4421-4ee6-81f6-58b3a2767b46",
   "metadata": {},
   "outputs": [],
   "source": [
    "import sys\n",
    "sys.path.insert(0, '..')\n",
    "import numpy\n",
    "import matplotlib.pyplot as plt\n",
    "%load_ext autoreload\n",
    "%autoreload 2\n",
    "%matplotlib inline\n",
    "# will autoupdate any of the packages imported:\n",
    "import pyclifford as pc"
   ]
  },
  {
   "cell_type": "code",
   "execution_count": 13,
   "id": "9033b484",
   "metadata": {},
   "outputs": [],
   "source": [
    "from pyclifford.utils import pauli_decompose, calculate_chi, pauli_combine\n",
    "from pyclifford.paulialg import PauliList, Pauli, PauliPolynomial"
   ]
  },
  {
   "cell_type": "code",
   "execution_count": 14,
   "id": "e7395e1b",
   "metadata": {},
   "outputs": [],
   "source": [
    "class PauliChannel(object):\n",
    "    '''Pauli channel.\n",
    "        C[rho] = sum_{m,n} phi_{mn} P_m rho P_n^H,\n",
    "    where P_m is the m-th element of paulis.\n",
    "    - The CPTP condition requires phi^H = phi, Tr phi = 1, and phi >=0,\n",
    "      as if phi is a density matrix.\n",
    "      \n",
    "    Parameters:\n",
    "    paulis: PauliList - a list of Pauli operators {P_m} serving as operator basis.\n",
    "    phi: complex (L, L) - channel density matrix phi_{mn} in the Pauli basis.'''\n",
    "    def __init__(self, paulis, phi):\n",
    "        self.paulis = paulis\n",
    "        self.phi = phi\n",
    "        self.N = self.paulis.N"
   ]
  },
  {
   "cell_type": "code",
   "execution_count": 15,
   "id": "1d96ab45",
   "metadata": {},
   "outputs": [],
   "source": [
    "class GeneralizedStabilizerState(object):\n",
    "    '''Generalized stabilizer state.\n",
    "        rho = sum_{b,b'} chi_{b,b'} |b> <b'|,\n",
    "    where |b> is a basis state of destabilizer excitations,\n",
    "        |b> = prod_{i} D_i^{b_i} |0>,\n",
    "    with |0> being the state stabilzed by all stabilizers, i.e.\n",
    "        S_i |0> = |0>.\n",
    "    - The stabilizers and destabilizers are given by a StabilizerState \n",
    "      instance as the stabilizer frame.\n",
    "    - The basis of destabilizer excitations are represented as\n",
    "      binary array (tuple), e.g. (0,1,0,1) means the 2nd and 4th \n",
    "      destabilizers are excited.\n",
    "    - The basis dictionary keeps track of the mapping from unique\n",
    "      binary tuple to integer index of the basis.\n",
    "    - The density matrix is given by a complex array chi of size L x L,\n",
    "      where L is the number of excitation basis states.\n",
    "\n",
    "    Parameters:\n",
    "    frame: StabilizerState - a stabilizer state serving as the frame.\n",
    "    basis: int (L, N-r) - a binary array encoding the basis of destabilizer excitations.\n",
    "    chi: complex (L, L) - density matrix in the excitation basis.'''\n",
    "    def __init__(self, frame, basis, chi):\n",
    "        self.frame = frame\n",
    "        self.basis = basis\n",
    "        self.chi = chi\n",
    "\n",
    "    @property\n",
    "    def N(self):\n",
    "        return self.frame.N\n",
    "    \n",
    "    @property\n",
    "    def r(self):\n",
    "        return self.frame.r\n",
    "\n",
    "    def __repr__(self):\n",
    "        return f\"GeneralizedStabilizerState(\\nframe=\\n{self.frame},\\nbasis=\\n{self.basis},\\nchi=\\n{self.chi})\"\n",
    "    \n",
    "    def copy(self):\n",
    "        return GeneralizedStabilizerState(self.frame.copy(), self.basis.copy(), self.chi.copy())\n",
    "    \n",
    "    def rotate_by(self, generator, mask=None):\n",
    "        self.frame.rotate_by(generator, mask)\n",
    "        return self\n",
    "    \n",
    "    def transform_by(self, clifford_map, mask=None):\n",
    "        self.frame.transform_by(clifford_map, mask)\n",
    "        return self\n",
    "    \n",
    "    def evolve_by(self, pauli_channel):\n",
    "        # Evolve the state by a Pauli channel.\n",
    "        bs, cs, ps = pauli_decompose(pauli_channel.paulis.gs, pauli_channel.paulis.ps, \n",
    "                                     self.frame.gs, self.frame.ps, self.r)\n",
    "        # construct new basis, compute fusion map and fusion phase indicator\n",
    "        L_old = self.basis.shape[0]\n",
    "        L_add = bs.shape[0]\n",
    "        L_new = 0\n",
    "        basis_new = {}\n",
    "        fusion_map = numpy.zeros((L_old,L_add), dtype=numpy.int_)\n",
    "        fusion_p = numpy.zeros((L_old,L_add), dtype=numpy.int_)\n",
    "        for i in range(L_old):\n",
    "            for j in range(L_add):\n",
    "                b_new = tuple((self.basis[i] + bs[j])%2)\n",
    "                if b_new not in basis_new:\n",
    "                    basis_new[b_new] = L_new\n",
    "                    L_new += 1\n",
    "                k = basis_new[b_new]\n",
    "                fusion_map[i,j] = k\n",
    "                fusion_p[i,j] = ps[j] + 2*self.basis[i].dot(cs[j])\n",
    "        # perform fusion of state and channel density matrices\n",
    "        chi_new = calculate_chi(self.chi, pauli_channel.phi, fusion_map, fusion_p, L_new)\n",
    "        # in-place update basis and chi\n",
    "        self.basis = numpy.array(list(basis_new.keys()))\n",
    "        self.chi = chi_new\n",
    "        return self\n",
    "    \n",
    "    def represent(self, ops):\n",
    "        '''Represent a list of operators in the destabilizer excitation basis.\n",
    "        \n",
    "        Parameters:\n",
    "        ops: operator(s), can be Pauli, PauliList, PauliPolynomial'''\n",
    "        if isinstance(ops, Pauli):\n",
    "            # cast Pauli to PauliPolynomial\n",
    "            return self.represent(ops.as_polynomial())\n",
    "        if isinstance(ops, PauliPolynomial):\n",
    "            # cast PauliPolynomial to PauliList\n",
    "            mats = self.represent(PauliList(ops.gs,ops.ps))\n",
    "            return numpy.tensordot(ops.cs, mats, axes=(0,0))\n",
    "        if isinstance(ops, PauliList):\n",
    "            bs, cs, ps = pauli_decompose(ops.gs, ops.ps, self.frame.gs, self.frame.ps, self.r)\n",
    "            L = self.basis.shape[0]\n",
    "            K = ps.shape[0]\n",
    "            mats = numpy.zeros((K,L,L), dtype=numpy.complex128)\n",
    "            idx = {tuple(b): i for i, b in enumerate(self.basis)}\n",
    "            for k in range(K):\n",
    "                for i0 in range(L):\n",
    "                    b0 = self.basis[i0]\n",
    "                    b1 = tuple((b0 + bs[k])%2)\n",
    "                    if b1 in idx:\n",
    "                        i1 = idx[b1]\n",
    "                        mats[k,i1,i0] = 1j**(ps[k] + 2*b0.dot(cs[k]))\n",
    "            return mats\n",
    "            \n",
    "    def expect(self, obs):\n",
    "        '''Evaluate expctationvalues of Pauli observables on the generalized\n",
    "           stabilizer state.\n",
    "           \n",
    "        Parameters:\n",
    "        obs: observable, can be Pauli, PauliList, PauliPolynomial\n",
    "\n",
    "        Returns:\n",
    "        out: output (depending on the type of obs)\n",
    "            * Pauli: promote to PauliPolynomial\n",
    "            * PauliPolynomial O: Tr(rho O)\n",
    "            * PauliList [O_i]: [Tr(rho O_i)]''' \n",
    "        mats = self.represent(obs)\n",
    "        if mats.ndim == 2:  # single matrix case\n",
    "            return numpy.trace(self.chi @ mats)\n",
    "        else:  # batch case\n",
    "            return numpy.tensordot(self.chi, mats, axes=([1,0], [1,2]))\n",
    "        \n",
    "    def to_numpy(self):\n",
    "        '''Convert generalized stabilizer state to numpy density matrix representation.'''\n",
    "        destabilizers = self.frame[self.N+self.r:2*self.N]\n",
    "        gs, ps =pauli_combine(self.basis, destabilizers.gs, destabilizers.ps)\n",
    "        Ds = PauliList(gs,ps).to_numpy()\n",
    "        rho0 = self.frame.to_numpy()\n",
    "        L = Ds.shape[0]\n",
    "        rho = numpy.zeros_like(rho0)\n",
    "        for j1 in range(L):\n",
    "            for j2 in range(L):\n",
    "                rho += self.chi[j1, j2]* Ds[j1] @ rho0 @ Ds[j2]\n",
    "        return rho\n",
    "                "
   ]
  },
  {
   "cell_type": "markdown",
   "id": "161714ca",
   "metadata": {},
   "source": [
    "Test: create a generalized stabilizer state over three qubits, where the first two qubits is in a mixture of Bell state, and the third qubit is maximally mixed."
   ]
  },
  {
   "cell_type": "code",
   "execution_count": 25,
   "id": "3e63172d",
   "metadata": {},
   "outputs": [
    {
     "data": {
      "text/plain": [
       "GeneralizedStabilizerState(\n",
       "frame=\n",
       "StabilizerState(\n",
       "   +XXI\n",
       "   +ZZI),\n",
       "basis=\n",
       "[[0 0]\n",
       " [1 0]],\n",
       "chi=\n",
       "[[0.8+0.j 0.1+0.j]\n",
       " [0.1+0.j 0.2+0.j]])"
      ]
     },
     "execution_count": 25,
     "metadata": {},
     "output_type": "execute_result"
    }
   ],
   "source": [
    "state=GeneralizedStabilizerState(\n",
    "    pc.stabilizer_state(\"XXI\",\"ZZI\"), \n",
    "    numpy.array([[0,0],[1,0]]), \n",
    "    numpy.array([[0.8,0.1],[0.1,0.2]],dtype=numpy.complex128))\n",
    "state"
   ]
  },
  {
   "cell_type": "markdown",
   "id": "7ecc9b19",
   "metadata": {},
   "source": [
    "Density matrix of the state."
   ]
  },
  {
   "cell_type": "code",
   "execution_count": 24,
   "id": "be822ce2",
   "metadata": {},
   "outputs": [
    {
     "data": {
      "text/plain": [
       "array([[0.4 , 0.  , 0.  , 0.  , 0.05, 0.  , 0.  , 0.  ],\n",
       "       [0.  , 0.4 , 0.  , 0.  , 0.  , 0.05, 0.  , 0.  ],\n",
       "       [0.  , 0.  , 0.  , 0.  , 0.  , 0.  , 0.  , 0.  ],\n",
       "       [0.  , 0.  , 0.  , 0.  , 0.  , 0.  , 0.  , 0.  ],\n",
       "       [0.05, 0.  , 0.  , 0.  , 0.1 , 0.  , 0.  , 0.  ],\n",
       "       [0.  , 0.05, 0.  , 0.  , 0.  , 0.1 , 0.  , 0.  ],\n",
       "       [0.  , 0.  , 0.  , 0.  , 0.  , 0.  , 0.  , 0.  ],\n",
       "       [0.  , 0.  , 0.  , 0.  , 0.  , 0.  , 0.  , 0.  ]])"
      ]
     },
     "execution_count": 24,
     "metadata": {},
     "output_type": "execute_result"
    }
   ],
   "source": [
    "state.to_numpy().real"
   ]
  },
  {
   "cell_type": "markdown",
   "id": "39e9fb12",
   "metadata": {},
   "source": [
    "Represent a list of Pauli operators on the stabilizer frame basis."
   ]
  },
  {
   "cell_type": "code",
   "execution_count": 18,
   "id": "3744ddcb",
   "metadata": {},
   "outputs": [
    {
     "data": {
      "text/plain": [
       "array([[[ 1.+0.j,  0.+0.j],\n",
       "        [ 0.+0.j, -1.+0.j]],\n",
       "\n",
       "       [[ 0.+0.j,  0.+1.j],\n",
       "        [-0.-1.j,  0.+0.j]],\n",
       "\n",
       "       [[ 0.+0.j,  0.+1.j],\n",
       "        [-0.-1.j,  0.+0.j]],\n",
       "\n",
       "       [[-1.+0.j,  0.+0.j],\n",
       "        [ 0.+0.j,  1.+0.j]]])"
      ]
     },
     "execution_count": 18,
     "metadata": {},
     "output_type": "execute_result"
    }
   ],
   "source": [
    "state.represent(pc.paulis(\"XXI\",\"XYI\",\"YXI\",\"YYI\"))"
   ]
  },
  {
   "cell_type": "markdown",
   "id": "4f06773a",
   "metadata": {},
   "source": [
    "Compute the expectation value of a Pauli polynomial on the state."
   ]
  },
  {
   "cell_type": "code",
   "execution_count": 26,
   "id": "9fb4ecae",
   "metadata": {},
   "outputs": [
    {
     "data": {
      "text/plain": [
       "np.complex128(0.3+0j)"
      ]
     },
     "execution_count": 26,
     "metadata": {},
     "output_type": "execute_result"
    }
   ],
   "source": [
    "obs = (pc.pauli(\"XXI\")+1j*pc.pauli(\"XYI\")+1j*pc.pauli(\"YXI\")-pc.pauli(\"YYI\"))/4\n",
    "state.expect(obs)"
   ]
  },
  {
   "cell_type": "markdown",
   "id": "493a4c4f",
   "metadata": {},
   "source": [
    "Verify that the result is correct by explicit calculation using matrix representations of state and operator."
   ]
  },
  {
   "cell_type": "code",
   "execution_count": 27,
   "id": "7155800c",
   "metadata": {},
   "outputs": [
    {
     "data": {
      "text/plain": [
       "np.complex128(0.30000000000000004+0j)"
      ]
     },
     "execution_count": 27,
     "metadata": {},
     "output_type": "execute_result"
    }
   ],
   "source": [
    "numpy.trace(state.to_numpy() @ obs.to_numpy())"
   ]
  },
  {
   "cell_type": "markdown",
   "id": "b7231ecf",
   "metadata": {},
   "source": [
    "Define a Pauli channel which maximally decohere the first qubit in the Z basis, then apply the channel to the state."
   ]
  },
  {
   "cell_type": "code",
   "execution_count": 20,
   "id": "9dcaff6b",
   "metadata": {},
   "outputs": [
    {
     "data": {
      "text/plain": [
       "GeneralizedStabilizerState(\n",
       "frame=\n",
       "StabilizerState(\n",
       "   +XXI\n",
       "   +ZZI),\n",
       "basis=\n",
       "[[0 0]\n",
       " [1 0]],\n",
       "chi=\n",
       "[[0.5+0.j 0.1+0.j]\n",
       " [0.1+0.j 0.5+0.j]])"
      ]
     },
     "execution_count": 20,
     "metadata": {},
     "output_type": "execute_result"
    }
   ],
   "source": [
    "channel = PauliChannel(pc.paulis(\"III\",\"ZII\"), numpy.array([[0.5,0.0],[0.0,0.5]],dtype=numpy.complex128))\n",
    "state.evolve_by(channel)"
   ]
  },
  {
   "cell_type": "markdown",
   "id": "3b71c863",
   "metadata": {},
   "source": [
    "The density matrix shows that the decoherence indeed removes off-diagonal matrix elements."
   ]
  },
  {
   "cell_type": "code",
   "execution_count": 21,
   "id": "3a6649ac",
   "metadata": {},
   "outputs": [
    {
     "data": {
      "text/plain": [
       "array([[0.3, 0. , 0. , 0. , 0. , 0. , 0. , 0. ],\n",
       "       [0. , 0.3, 0. , 0. , 0. , 0. , 0. , 0. ],\n",
       "       [0. , 0. , 0. , 0. , 0. , 0. , 0. , 0. ],\n",
       "       [0. , 0. , 0. , 0. , 0. , 0. , 0. , 0. ],\n",
       "       [0. , 0. , 0. , 0. , 0. , 0. , 0. , 0. ],\n",
       "       [0. , 0. , 0. , 0. , 0. , 0. , 0. , 0. ],\n",
       "       [0. , 0. , 0. , 0. , 0. , 0. , 0.2, 0. ],\n",
       "       [0. , 0. , 0. , 0. , 0. , 0. , 0. , 0.2]])"
      ]
     },
     "execution_count": 21,
     "metadata": {},
     "output_type": "execute_result"
    }
   ],
   "source": [
    "state.to_numpy().real"
   ]
  },
  {
   "cell_type": "code",
   "execution_count": null,
   "id": "c16191ca",
   "metadata": {},
   "outputs": [],
   "source": []
  }
 ],
 "metadata": {
  "kernelspec": {
   "display_name": "Python 3",
   "language": "python",
   "name": "python3"
  },
  "language_info": {
   "codemirror_mode": {
    "name": "ipython",
    "version": 3
   },
   "file_extension": ".py",
   "mimetype": "text/x-python",
   "name": "python",
   "nbconvert_exporter": "python",
   "pygments_lexer": "ipython3",
   "version": "3.13.2"
  }
 },
 "nbformat": 4,
 "nbformat_minor": 5
}
